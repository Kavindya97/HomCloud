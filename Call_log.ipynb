{
 "cells": [
  {
   "cell_type": "markdown",
   "id": "1ad542a1-bac7-458c-9f8f-c8f1636b095f",
   "metadata": {},
   "source": [
    "## Call Logger Analytics ##"
   ]
  },
  {
   "cell_type": "markdown",
   "id": "e4ea421b-f7d8-4c5a-bab1-632ca755ffbe",
   "metadata": {},
   "source": [
    "### ELT and Aggregation Functions ###"
   ]
  },
  {
   "cell_type": "code",
   "execution_count": 2,
   "id": "7b3b93b0-e0db-4bfb-9fe9-0cb3c1c9c1f6",
   "metadata": {},
   "outputs": [
    {
     "name": "stdout",
     "output_type": "stream",
     "text": [
      "Collecting matplotlib\n",
      "  Downloading matplotlib-3.5.3-cp38-cp38-manylinux_2_5_x86_64.manylinux1_x86_64.whl (11.3 MB)\n",
      "\u001b[2K     \u001b[90m━━━━━━━━━━━━━━━━━━━━━━━━━━━━━━━━━━━━━━━━\u001b[0m \u001b[32m11.3/11.3 MB\u001b[0m \u001b[31m17.6 MB/s\u001b[0m eta \u001b[36m0:00:00\u001b[0m00:01\u001b[0m0:01\u001b[0mm\n",
      "\u001b[?25hCollecting cycler>=0.10\n",
      "  Downloading cycler-0.11.0-py3-none-any.whl (6.4 kB)\n",
      "Requirement already satisfied: packaging>=20.0 in /usr/local/lib/python3.8/site-packages (from matplotlib) (21.3)\n",
      "Requirement already satisfied: python-dateutil>=2.7 in /usr/local/lib/python3.8/site-packages (from matplotlib) (2.8.2)\n",
      "Requirement already satisfied: numpy>=1.17 in /usr/local/lib/python3.8/site-packages (from matplotlib) (1.23.2)\n",
      "Collecting fonttools>=4.22.0\n",
      "  Downloading fonttools-4.37.1-py3-none-any.whl (957 kB)\n",
      "\u001b[2K     \u001b[90m━━━━━━━━━━━━━━━━━━━━━━━━━━━━━━━━━━━━━━\u001b[0m \u001b[32m957.2/957.2 KB\u001b[0m \u001b[31m47.3 MB/s\u001b[0m eta \u001b[36m0:00:00\u001b[0m\n",
      "\u001b[?25hRequirement already satisfied: pyparsing>=2.2.1 in /usr/local/lib/python3.8/site-packages (from matplotlib) (3.0.9)\n",
      "Collecting kiwisolver>=1.0.1\n",
      "  Downloading kiwisolver-1.4.4-cp38-cp38-manylinux_2_5_x86_64.manylinux1_x86_64.whl (1.2 MB)\n",
      "\u001b[2K     \u001b[90m━━━━━━━━━━━━━━━━━━━━━━━━━━━━━━━━━━━━━━━━\u001b[0m \u001b[32m1.2/1.2 MB\u001b[0m \u001b[31m50.4 MB/s\u001b[0m eta \u001b[36m0:00:00\u001b[0m\n",
      "\u001b[?25hCollecting pillow>=6.2.0\n",
      "  Downloading Pillow-9.2.0-cp38-cp38-manylinux_2_28_x86_64.whl (3.2 MB)\n",
      "\u001b[2K     \u001b[90m━━━━━━━━━━━━━━━━━━━━━━━━━━━━━━━━━━━━━━━━\u001b[0m \u001b[32m3.2/3.2 MB\u001b[0m \u001b[31m20.3 MB/s\u001b[0m eta \u001b[36m0:00:00\u001b[0m00:01\u001b[0m00:01\u001b[0m\n",
      "\u001b[?25hRequirement already satisfied: six>=1.5 in /usr/local/lib/python3.8/site-packages (from python-dateutil>=2.7->matplotlib) (1.16.0)\n",
      "Installing collected packages: pillow, kiwisolver, fonttools, cycler, matplotlib\n",
      "Successfully installed cycler-0.11.0 fonttools-4.37.1 kiwisolver-1.4.4 matplotlib-3.5.3 pillow-9.2.0\n",
      "\u001b[33mWARNING: Running pip as the 'root' user can result in broken permissions and conflicting behaviour with the system package manager. It is recommended to use a virtual environment instead: https://pip.pypa.io/warnings/venv\u001b[0m\u001b[33m\n",
      "\u001b[0m\u001b[33mWARNING: You are using pip version 22.0.4; however, version 22.2.2 is available.\n",
      "You should consider upgrading via the '/usr/local/bin/python -m pip install --upgrade pip' command.\u001b[0m\u001b[33m\n",
      "\u001b[0m"
     ]
    }
   ],
   "source": [
    "!pip install matplotlib"
   ]
  },
  {
   "cell_type": "code",
   "execution_count": 3,
   "id": "0c633f90-e084-480a-9c9e-c2ec50bb7a95",
   "metadata": {},
   "outputs": [],
   "source": [
    "import pandas as pd\n",
    "import numpy as np\n",
    "import matplotlib.pyplot as plt"
   ]
  },
  {
   "cell_type": "code",
   "execution_count": 9,
   "id": "43b264fa-aba0-4298-adee-3d828091dbcd",
   "metadata": {},
   "outputs": [],
   "source": [
    "call_df=pd.read_csv(\"../data/calllog.csv\",low_memory=False, header=None)\n",
    "# header=None, Low_memory=False"
   ]
  },
  {
   "cell_type": "code",
   "execution_count": 10,
   "id": "75c1fbfc-ceb1-49a0-bf33-9978919e08a5",
   "metadata": {},
   "outputs": [
    {
     "data": {
      "text/html": [
       "<div>\n",
       "<style scoped>\n",
       "    .dataframe tbody tr th:only-of-type {\n",
       "        vertical-align: middle;\n",
       "    }\n",
       "\n",
       "    .dataframe tbody tr th {\n",
       "        vertical-align: top;\n",
       "    }\n",
       "\n",
       "    .dataframe thead th {\n",
       "        text-align: right;\n",
       "    }\n",
       "</style>\n",
       "<table border=\"1\" class=\"dataframe\">\n",
       "  <thead>\n",
       "    <tr style=\"text-align: right;\">\n",
       "      <th></th>\n",
       "      <th>0</th>\n",
       "      <th>1</th>\n",
       "      <th>2</th>\n",
       "      <th>3</th>\n",
       "      <th>4</th>\n",
       "    </tr>\n",
       "  </thead>\n",
       "  <tbody>\n",
       "    <tr>\n",
       "      <th>0</th>\n",
       "      <td>2019-01-28 19:54:44</td>\n",
       "      <td>6336</td>\n",
       "      <td>6245</td>\n",
       "      <td>0</td>\n",
       "      <td>FAILED</td>\n",
       "    </tr>\n",
       "    <tr>\n",
       "      <th>1</th>\n",
       "      <td>2019-01-28 19:54:13</td>\n",
       "      <td>812570342</td>\n",
       "      <td>6205</td>\n",
       "      <td>35</td>\n",
       "      <td>ANSWERED</td>\n",
       "    </tr>\n",
       "    <tr>\n",
       "      <th>2</th>\n",
       "      <td>2019-01-28 19:52:58</td>\n",
       "      <td>2436</td>\n",
       "      <td>6688</td>\n",
       "      <td>120</td>\n",
       "      <td>ANSWERED</td>\n",
       "    </tr>\n",
       "    <tr>\n",
       "      <th>3</th>\n",
       "      <td>2019-01-28 19:54:40</td>\n",
       "      <td>7101</td>\n",
       "      <td>7204</td>\n",
       "      <td>22</td>\n",
       "      <td>ANSWERED</td>\n",
       "    </tr>\n",
       "    <tr>\n",
       "      <th>4</th>\n",
       "      <td>2019-01-28 19:55:24</td>\n",
       "      <td>5716</td>\n",
       "      <td>2883</td>\n",
       "      <td>0</td>\n",
       "      <td>BUSY</td>\n",
       "    </tr>\n",
       "    <tr>\n",
       "      <th>...</th>\n",
       "      <td>...</td>\n",
       "      <td>...</td>\n",
       "      <td>...</td>\n",
       "      <td>...</td>\n",
       "      <td>...</td>\n",
       "    </tr>\n",
       "    <tr>\n",
       "      <th>1804308</th>\n",
       "      <td>2022-06-22 16:33:20</td>\n",
       "      <td>0706500760</td>\n",
       "      <td>6211</td>\n",
       "      <td>28</td>\n",
       "      <td>NO ANSWER</td>\n",
       "    </tr>\n",
       "    <tr>\n",
       "      <th>1804309</th>\n",
       "      <td>2022-06-22 16:40:00</td>\n",
       "      <td>0706500760</td>\n",
       "      <td>6211</td>\n",
       "      <td>28</td>\n",
       "      <td>NO ANSWER</td>\n",
       "    </tr>\n",
       "    <tr>\n",
       "      <th>1804310</th>\n",
       "      <td>2022-06-22 16:43:01</td>\n",
       "      <td>0706500760</td>\n",
       "      <td>6211</td>\n",
       "      <td>28</td>\n",
       "      <td>NO ANSWER</td>\n",
       "    </tr>\n",
       "    <tr>\n",
       "      <th>1804311</th>\n",
       "      <td>2022-06-22 16:52:20</td>\n",
       "      <td>2345</td>\n",
       "      <td>6235</td>\n",
       "      <td>30</td>\n",
       "      <td>NO ANSWER</td>\n",
       "    </tr>\n",
       "    <tr>\n",
       "      <th>1804312</th>\n",
       "      <td>2022-06-22 17:01:45</td>\n",
       "      <td>6220</td>\n",
       "      <td>2133</td>\n",
       "      <td>92</td>\n",
       "      <td>ANSWERED</td>\n",
       "    </tr>\n",
       "  </tbody>\n",
       "</table>\n",
       "<p>1804313 rows × 5 columns</p>\n",
       "</div>"
      ],
      "text/plain": [
       "                           0           1     2    3          4\n",
       "0        2019-01-28 19:54:44        6336  6245    0     FAILED\n",
       "1        2019-01-28 19:54:13   812570342  6205   35   ANSWERED\n",
       "2        2019-01-28 19:52:58        2436  6688  120   ANSWERED\n",
       "3        2019-01-28 19:54:40        7101  7204   22   ANSWERED\n",
       "4        2019-01-28 19:55:24        5716  2883    0       BUSY\n",
       "...                      ...         ...   ...  ...        ...\n",
       "1804308  2022-06-22 16:33:20  0706500760  6211   28  NO ANSWER\n",
       "1804309  2022-06-22 16:40:00  0706500760  6211   28  NO ANSWER\n",
       "1804310  2022-06-22 16:43:01  0706500760  6211   28  NO ANSWER\n",
       "1804311  2022-06-22 16:52:20        2345  6235   30  NO ANSWER\n",
       "1804312  2022-06-22 17:01:45        6220  2133   92   ANSWERED\n",
       "\n",
       "[1804313 rows x 5 columns]"
      ]
     },
     "execution_count": 10,
     "metadata": {},
     "output_type": "execute_result"
    }
   ],
   "source": [
    "call_df"
   ]
  },
  {
   "cell_type": "code",
   "execution_count": 12,
   "id": "ff78c649-0cb2-4658-aa18-0a87011fe5fd",
   "metadata": {},
   "outputs": [
    {
     "name": "stdout",
     "output_type": "stream",
     "text": [
      "<class 'pandas.core.frame.DataFrame'>\n",
      "RangeIndex: 1804313 entries, 0 to 1804312\n",
      "Data columns (total 5 columns):\n",
      " #   Column  Dtype \n",
      "---  ------  ----- \n",
      " 0   0       object\n",
      " 1   1       object\n",
      " 2   2       object\n",
      " 3   3       int64 \n",
      " 4   4       object\n",
      "dtypes: int64(1), object(4)\n",
      "memory usage: 68.8+ MB\n"
     ]
    }
   ],
   "source": [
    "call_df.info()"
   ]
  },
  {
   "cell_type": "code",
   "execution_count": 16,
   "id": "ae80622a-ad88-473d-892e-e26ff0e94883",
   "metadata": {},
   "outputs": [
    {
     "data": {
      "text/html": [
       "<div>\n",
       "<style scoped>\n",
       "    .dataframe tbody tr th:only-of-type {\n",
       "        vertical-align: middle;\n",
       "    }\n",
       "\n",
       "    .dataframe tbody tr th {\n",
       "        vertical-align: top;\n",
       "    }\n",
       "\n",
       "    .dataframe thead th {\n",
       "        text-align: right;\n",
       "    }\n",
       "</style>\n",
       "<table border=\"1\" class=\"dataframe\">\n",
       "  <thead>\n",
       "    <tr style=\"text-align: right;\">\n",
       "      <th></th>\n",
       "      <th>date_time</th>\n",
       "      <th>source</th>\n",
       "      <th>destination</th>\n",
       "      <th>duration</th>\n",
       "      <th>status</th>\n",
       "    </tr>\n",
       "  </thead>\n",
       "  <tbody>\n",
       "    <tr>\n",
       "      <th>0</th>\n",
       "      <td>2019-01-28 19:54:44</td>\n",
       "      <td>6336</td>\n",
       "      <td>6245</td>\n",
       "      <td>0</td>\n",
       "      <td>FAILED</td>\n",
       "    </tr>\n",
       "    <tr>\n",
       "      <th>1</th>\n",
       "      <td>2019-01-28 19:54:13</td>\n",
       "      <td>812570342</td>\n",
       "      <td>6205</td>\n",
       "      <td>35</td>\n",
       "      <td>ANSWERED</td>\n",
       "    </tr>\n",
       "    <tr>\n",
       "      <th>2</th>\n",
       "      <td>2019-01-28 19:52:58</td>\n",
       "      <td>2436</td>\n",
       "      <td>6688</td>\n",
       "      <td>120</td>\n",
       "      <td>ANSWERED</td>\n",
       "    </tr>\n",
       "    <tr>\n",
       "      <th>3</th>\n",
       "      <td>2019-01-28 19:54:40</td>\n",
       "      <td>7101</td>\n",
       "      <td>7204</td>\n",
       "      <td>22</td>\n",
       "      <td>ANSWERED</td>\n",
       "    </tr>\n",
       "    <tr>\n",
       "      <th>4</th>\n",
       "      <td>2019-01-28 19:55:24</td>\n",
       "      <td>5716</td>\n",
       "      <td>2883</td>\n",
       "      <td>0</td>\n",
       "      <td>BUSY</td>\n",
       "    </tr>\n",
       "  </tbody>\n",
       "</table>\n",
       "</div>"
      ],
      "text/plain": [
       "             date_time     source destination  duration    status\n",
       "0  2019-01-28 19:54:44       6336        6245         0    FAILED\n",
       "1  2019-01-28 19:54:13  812570342        6205        35  ANSWERED\n",
       "2  2019-01-28 19:52:58       2436        6688       120  ANSWERED\n",
       "3  2019-01-28 19:54:40       7101        7204        22  ANSWERED\n",
       "4  2019-01-28 19:55:24       5716        2883         0      BUSY"
      ]
     },
     "execution_count": 16,
     "metadata": {},
     "output_type": "execute_result"
    }
   ],
   "source": [
    "column_names=['date_time','source','destination','duration','status']\n",
    "call_df.columns=column_names\n",
    "call_df.head(5)\n",
    "#call_df.tail(5)"
   ]
  },
  {
   "cell_type": "markdown",
   "id": "72ace754-9063-4482-a1a4-1ddead946f4d",
   "metadata": {},
   "source": [
    "### Dimension ###"
   ]
  },
  {
   "cell_type": "code",
   "execution_count": 19,
   "id": "edbe9d8a-416c-4a31-9d38-b9400328dd1a",
   "metadata": {},
   "outputs": [
    {
     "name": "stdout",
     "output_type": "stream",
     "text": [
      "(1804313, 5)\n",
      "1804313\n",
      "Numver of raws = 1804313\n"
     ]
    }
   ],
   "source": [
    "print(call_df.shape)\n",
    "print(len(call_df.index))\n",
    "r,_ = call_df.shape\n",
    "print('Numver of raws = ' + str(r))"
   ]
  },
  {
   "cell_type": "markdown",
   "id": "2809e8bc-0d47-47a8-8632-045c9072dd48",
   "metadata": {},
   "source": [
    "### Missing Value Management ###"
   ]
  },
  {
   "cell_type": "code",
   "execution_count": 22,
   "id": "3d37ea0c-5c98-4e15-a447-fcbbf9a81735",
   "metadata": {},
   "outputs": [
    {
     "name": "stdout",
     "output_type": "stream",
     "text": [
      "Collecting seaborn\n",
      "  Downloading seaborn-0.11.2-py3-none-any.whl (292 kB)\n",
      "\u001b[2K     \u001b[90m━━━━━━━━━━━━━━━━━━━━━━━━━━━━━━━━━━━━━\u001b[0m \u001b[32m292.8/292.8 KB\u001b[0m \u001b[31m734.3 kB/s\u001b[0m eta \u001b[36m0:00:00\u001b[0m00:01\u001b[0m00:01\u001b[0m\n",
      "\u001b[?25hRequirement already satisfied: pandas>=0.23 in /usr/local/lib/python3.8/site-packages (from seaborn) (1.4.4)\n",
      "Collecting scipy>=1.0\n",
      "  Downloading scipy-1.9.1-cp38-cp38-manylinux_2_17_x86_64.manylinux2014_x86_64.whl (43.4 MB)\n",
      "\u001b[2K     \u001b[90m━━━━━━━━━━━━━━━━━━━━━━━━━━━━━━━━━━━━━━━━\u001b[0m \u001b[32m43.4/43.4 MB\u001b[0m \u001b[31m17.6 MB/s\u001b[0m eta \u001b[36m0:00:00\u001b[0m00:01\u001b[0m00:01\u001b[0m\n",
      "\u001b[?25hRequirement already satisfied: matplotlib>=2.2 in /usr/local/lib/python3.8/site-packages (from seaborn) (3.5.3)\n",
      "Requirement already satisfied: numpy>=1.15 in /usr/local/lib/python3.8/site-packages (from seaborn) (1.23.2)\n",
      "Requirement already satisfied: python-dateutil>=2.7 in /usr/local/lib/python3.8/site-packages (from matplotlib>=2.2->seaborn) (2.8.2)\n",
      "Requirement already satisfied: cycler>=0.10 in /usr/local/lib/python3.8/site-packages (from matplotlib>=2.2->seaborn) (0.11.0)\n",
      "Requirement already satisfied: pillow>=6.2.0 in /usr/local/lib/python3.8/site-packages (from matplotlib>=2.2->seaborn) (9.2.0)\n",
      "Requirement already satisfied: fonttools>=4.22.0 in /usr/local/lib/python3.8/site-packages (from matplotlib>=2.2->seaborn) (4.37.1)\n",
      "Requirement already satisfied: packaging>=20.0 in /usr/local/lib/python3.8/site-packages (from matplotlib>=2.2->seaborn) (21.3)\n",
      "Requirement already satisfied: kiwisolver>=1.0.1 in /usr/local/lib/python3.8/site-packages (from matplotlib>=2.2->seaborn) (1.4.4)\n",
      "Requirement already satisfied: pyparsing>=2.2.1 in /usr/local/lib/python3.8/site-packages (from matplotlib>=2.2->seaborn) (3.0.9)\n",
      "Requirement already satisfied: pytz>=2020.1 in /usr/local/lib/python3.8/site-packages (from pandas>=0.23->seaborn) (2022.2.1)\n",
      "Requirement already satisfied: six>=1.5 in /usr/local/lib/python3.8/site-packages (from python-dateutil>=2.7->matplotlib>=2.2->seaborn) (1.16.0)\n",
      "Installing collected packages: scipy, seaborn\n",
      "Successfully installed scipy-1.9.1 seaborn-0.11.2\n",
      "\u001b[33mWARNING: Running pip as the 'root' user can result in broken permissions and conflicting behaviour with the system package manager. It is recommended to use a virtual environment instead: https://pip.pypa.io/warnings/venv\u001b[0m\u001b[33m\n",
      "\u001b[0m\u001b[33mWARNING: You are using pip version 22.0.4; however, version 22.2.2 is available.\n",
      "You should consider upgrading via the '/usr/local/bin/python -m pip install --upgrade pip' command.\u001b[0m\u001b[33m\n",
      "\u001b[0m"
     ]
    }
   ],
   "source": [
    "!pip install seaborn"
   ]
  },
  {
   "cell_type": "code",
   "execution_count": 23,
   "id": "7f837324-fa82-4c15-87aa-85539421aa72",
   "metadata": {},
   "outputs": [
    {
     "data": {
      "image/png": "[encoded data removed]",
      "text/plain": [
       "<Figure size 1600x600 with 2 Axes>"
      ]
     },
     "metadata": {},
     "output_type": "display_data"
    }
   ],
   "source": [
    "%matplotlib inline\n",
    "import seaborn as sns\n",
    "plt.figure(figsize=(16,6)) #inch\n",
    "sns.heatmap(call_df.isnull())\n",
    "plt.show()"
   ]
  },
  {
   "cell_type": "code",
   "execution_count": 25,
   "id": "fa4d6bb0-f215-4586-876d-a6fce57b8bfb",
   "metadata": {},
   "outputs": [
    {
     "data": {
      "text/plain": [
       "date_time          0\n",
       "source         51302\n",
       "destination      263\n",
       "duration           0\n",
       "status             0\n",
       "dtype: int64"
      ]
     },
     "execution_count": 25,
     "metadata": {},
     "output_type": "execute_result"
    }
   ],
   "source": [
    "call_df.isnull().sum()"
   ]
  },
  {
   "cell_type": "code",
   "execution_count": null,
   "id": "e34622b1-321d-4087-b67c-fed5435c117d",
   "metadata": {},
   "outputs": [],
   "source": [
    "#call_df.dropna(axis=0)"
   ]
  },
  {
   "cell_type": "code",
   "execution_count": 26,
   "id": "8a4c4930-8f22-4fbf-99ee-4de48b332d29",
   "metadata": {},
   "outputs": [],
   "source": [
    "call_df.dropna(axis=0, inplace=True)"
   ]
  },
  {
   "cell_type": "code",
   "execution_count": 27,
   "id": "7bdf4125-25ab-4813-87c7-7bdedc93ea66",
   "metadata": {},
   "outputs": [
    {
     "data": {
      "text/plain": [
       "date_time      0\n",
       "source         0\n",
       "destination    0\n",
       "duration       0\n",
       "status         0\n",
       "dtype: int64"
      ]
     },
     "execution_count": 27,
     "metadata": {},
     "output_type": "execute_result"
    }
   ],
   "source": [
    "call_df.isnull().sum()"
   ]
  },
  {
   "cell_type": "code",
   "execution_count": 29,
   "id": "fffa0d1f-9c2b-402d-bba5-ae3d7d2bd47b",
   "metadata": {},
   "outputs": [
    {
     "data": {
      "text/plain": [
       "(1752748, 5)"
      ]
     },
     "execution_count": 29,
     "metadata": {},
     "output_type": "execute_result"
    }
   ],
   "source": [
    "call_df.shape"
   ]
  },
  {
   "cell_type": "markdown",
   "id": "9cd1092f-309e-4927-8f03-73c46733bc67",
   "metadata": {},
   "source": [
    "### Primary Observations ###"
   ]
  },
  {
   "cell_type": "markdown",
   "id": "a47242d0-4102-4410-9ba3-5b73e760daa7",
   "metadata": {},
   "source": [
    "#### Maximum Duration ####"
   ]
  },
  {
   "cell_type": "code",
   "execution_count": 30,
   "id": "53d6511c-314b-448b-986b-d973acacc328",
   "metadata": {},
   "outputs": [
    {
     "data": {
      "text/plain": [
       "1731976"
      ]
     },
     "execution_count": 30,
     "metadata": {},
     "output_type": "execute_result"
    }
   ],
   "source": [
    "call_df.duration.max()"
   ]
  },
  {
   "cell_type": "code",
   "execution_count": 32,
   "id": "32dd3bfc-d81a-465f-8fc9-67046ac3de04",
   "metadata": {},
   "outputs": [
    {
     "data": {
      "text/plain": [
       "0"
      ]
     },
     "execution_count": 32,
     "metadata": {},
     "output_type": "execute_result"
    }
   ],
   "source": [
    "call_df['duration'].min()"
   ]
  },
  {
   "cell_type": "code",
   "execution_count": 34,
   "id": "034b76be-29b0-44c6-9635-48a61bea92c5",
   "metadata": {},
   "outputs": [
    {
     "data": {
      "text/plain": [
       "18110     1731976\n",
       "132982    1529973\n",
       "688718    1120344\n",
       "217305     861584\n",
       "237594     560156\n",
       "Name: duration, dtype: int64"
      ]
     },
     "execution_count": 34,
     "metadata": {},
     "output_type": "execute_result"
    }
   ],
   "source": [
    "call_df.duration.nlargest(5,keep='first')"
   ]
  },
  {
   "cell_type": "code",
   "execution_count": 35,
   "id": "f97b9181-6b90-44c4-8fb0-7daa3dbce32c",
   "metadata": {},
   "outputs": [
    {
     "data": {
      "text/html": [
       "<div>\n",
       "<style scoped>\n",
       "    .dataframe tbody tr th:only-of-type {\n",
       "        vertical-align: middle;\n",
       "    }\n",
       "\n",
       "    .dataframe tbody tr th {\n",
       "        vertical-align: top;\n",
       "    }\n",
       "\n",
       "    .dataframe thead th {\n",
       "        text-align: right;\n",
       "    }\n",
       "</style>\n",
       "<table border=\"1\" class=\"dataframe\">\n",
       "  <thead>\n",
       "    <tr style=\"text-align: right;\">\n",
       "      <th></th>\n",
       "      <th>date_time</th>\n",
       "      <th>source</th>\n",
       "      <th>destination</th>\n",
       "      <th>duration</th>\n",
       "      <th>status</th>\n",
       "    </tr>\n",
       "  </thead>\n",
       "  <tbody>\n",
       "    <tr>\n",
       "      <th>18110</th>\n",
       "      <td>2019-01-24 00:05:18</td>\n",
       "      <td>2001</td>\n",
       "      <td>6276</td>\n",
       "      <td>1731976</td>\n",
       "      <td>ANSWERED</td>\n",
       "    </tr>\n",
       "  </tbody>\n",
       "</table>\n",
       "</div>"
      ],
      "text/plain": [
       "                 date_time source destination  duration    status\n",
       "18110  2019-01-24 00:05:18   2001        6276   1731976  ANSWERED"
      ]
     },
     "execution_count": 35,
     "metadata": {},
     "output_type": "execute_result"
    }
   ],
   "source": [
    "call_df[call_df.duration== call_df.duration.max()]"
   ]
  },
  {
   "cell_type": "code",
   "execution_count": 36,
   "id": "5645b491-7c19-4e61-b29c-d8ca1d50fa8b",
   "metadata": {},
   "outputs": [
    {
     "data": {
      "text/html": [
       "<div>\n",
       "<style scoped>\n",
       "    .dataframe tbody tr th:only-of-type {\n",
       "        vertical-align: middle;\n",
       "    }\n",
       "\n",
       "    .dataframe tbody tr th {\n",
       "        vertical-align: top;\n",
       "    }\n",
       "\n",
       "    .dataframe thead th {\n",
       "        text-align: right;\n",
       "    }\n",
       "</style>\n",
       "<table border=\"1\" class=\"dataframe\">\n",
       "  <thead>\n",
       "    <tr style=\"text-align: right;\">\n",
       "      <th></th>\n",
       "      <th>date_time</th>\n",
       "      <th>source</th>\n",
       "      <th>destination</th>\n",
       "      <th>duration</th>\n",
       "      <th>status</th>\n",
       "    </tr>\n",
       "  </thead>\n",
       "  <tbody>\n",
       "    <tr>\n",
       "      <th>18110</th>\n",
       "      <td>2019-01-24 00:05:18</td>\n",
       "      <td>2001</td>\n",
       "      <td>6276</td>\n",
       "      <td>1731976</td>\n",
       "      <td>ANSWERED</td>\n",
       "    </tr>\n",
       "    <tr>\n",
       "      <th>18116</th>\n",
       "      <td>2019-02-12 20:51:06</td>\n",
       "      <td>2001</td>\n",
       "      <td>6250</td>\n",
       "      <td>15752</td>\n",
       "      <td>ANSWERED</td>\n",
       "    </tr>\n",
       "    <tr>\n",
       "      <th>21393</th>\n",
       "      <td>2019-02-14 11:26:54</td>\n",
       "      <td>2001</td>\n",
       "      <td>2889</td>\n",
       "      <td>80912</td>\n",
       "      <td>ANSWERED</td>\n",
       "    </tr>\n",
       "    <tr>\n",
       "      <th>81142</th>\n",
       "      <td>2019-04-05 08:39:32</td>\n",
       "      <td>2000</td>\n",
       "      <td>6688</td>\n",
       "      <td>76205</td>\n",
       "      <td>ANSWERED</td>\n",
       "    </tr>\n",
       "    <tr>\n",
       "      <th>132982</th>\n",
       "      <td>2019-05-08 16:09:42</td>\n",
       "      <td>2000</td>\n",
       "      <td>6562</td>\n",
       "      <td>1529973</td>\n",
       "      <td>ANSWERED</td>\n",
       "    </tr>\n",
       "    <tr>\n",
       "      <th>217305</th>\n",
       "      <td>2019-07-09 14:04:56</td>\n",
       "      <td>2000</td>\n",
       "      <td>6212</td>\n",
       "      <td>861584</td>\n",
       "      <td>ANSWERED</td>\n",
       "    </tr>\n",
       "    <tr>\n",
       "      <th>237594</th>\n",
       "      <td>2019-07-26 09:43:09</td>\n",
       "      <td>2000</td>\n",
       "      <td>6688</td>\n",
       "      <td>560156</td>\n",
       "      <td>ANSWERED</td>\n",
       "    </tr>\n",
       "    <tr>\n",
       "      <th>347753</th>\n",
       "      <td>2019-10-31 11:54:16</td>\n",
       "      <td>2000</td>\n",
       "      <td>6688</td>\n",
       "      <td>79531</td>\n",
       "      <td>ANSWERED</td>\n",
       "    </tr>\n",
       "    <tr>\n",
       "      <th>365653</th>\n",
       "      <td>2019-11-08 09:14:46</td>\n",
       "      <td>4284</td>\n",
       "      <td>4212</td>\n",
       "      <td>13851</td>\n",
       "      <td>ANSWERED</td>\n",
       "    </tr>\n",
       "    <tr>\n",
       "      <th>541381</th>\n",
       "      <td>2019-12-30 09:59:22</td>\n",
       "      <td>2001</td>\n",
       "      <td>2889</td>\n",
       "      <td>29813</td>\n",
       "      <td>ANSWERED</td>\n",
       "    </tr>\n",
       "    <tr>\n",
       "      <th>542512</th>\n",
       "      <td>2019-12-30 15:51:43</td>\n",
       "      <td>2001</td>\n",
       "      <td>5020</td>\n",
       "      <td>73053</td>\n",
       "      <td>ANSWERED</td>\n",
       "    </tr>\n",
       "    <tr>\n",
       "      <th>650635</th>\n",
       "      <td>2020-03-02 08:25:51</td>\n",
       "      <td>2001</td>\n",
       "      <td>6362</td>\n",
       "      <td>183565</td>\n",
       "      <td>ANSWERED</td>\n",
       "    </tr>\n",
       "    <tr>\n",
       "      <th>688718</th>\n",
       "      <td>2020-06-16 12:04:52</td>\n",
       "      <td>6201</td>\n",
       "      <td>6202</td>\n",
       "      <td>1120344</td>\n",
       "      <td>ANSWERED</td>\n",
       "    </tr>\n",
       "    <tr>\n",
       "      <th>722494</th>\n",
       "      <td>2020-08-11 10:29:15</td>\n",
       "      <td>2001</td>\n",
       "      <td>6363</td>\n",
       "      <td>192597</td>\n",
       "      <td>ANSWERED</td>\n",
       "    </tr>\n",
       "    <tr>\n",
       "      <th>1271150</th>\n",
       "      <td>2021-05-17 11:07:41</td>\n",
       "      <td>2889</td>\n",
       "      <td>2000</td>\n",
       "      <td>14559</td>\n",
       "      <td>ANSWERED</td>\n",
       "    </tr>\n",
       "    <tr>\n",
       "      <th>1311165</th>\n",
       "      <td>2021-07-08 13:58:23</td>\n",
       "      <td>2001</td>\n",
       "      <td>6688</td>\n",
       "      <td>90477</td>\n",
       "      <td>ANSWERED</td>\n",
       "    </tr>\n",
       "    <tr>\n",
       "      <th>1527558</th>\n",
       "      <td>2021-12-02 14:05:35</td>\n",
       "      <td>2801</td>\n",
       "      <td>2803</td>\n",
       "      <td>77036</td>\n",
       "      <td>ANSWERED</td>\n",
       "    </tr>\n",
       "    <tr>\n",
       "      <th>1567541</th>\n",
       "      <td>2021-12-29 13:36:33</td>\n",
       "      <td>2801</td>\n",
       "      <td>2803</td>\n",
       "      <td>163668</td>\n",
       "      <td>ANSWERED</td>\n",
       "    </tr>\n",
       "    <tr>\n",
       "      <th>1568369</th>\n",
       "      <td>2021-12-31 11:14:50</td>\n",
       "      <td>5049</td>\n",
       "      <td>215658176</td>\n",
       "      <td>28833</td>\n",
       "      <td>ANSWERED</td>\n",
       "    </tr>\n",
       "    <tr>\n",
       "      <th>1578454</th>\n",
       "      <td>2022-01-04 10:37:41</td>\n",
       "      <td>2001</td>\n",
       "      <td>6216</td>\n",
       "      <td>184015</td>\n",
       "      <td>ANSWERED</td>\n",
       "    </tr>\n",
       "  </tbody>\n",
       "</table>\n",
       "</div>"
      ],
      "text/plain": [
       "                   date_time source destination  duration    status\n",
       "18110    2019-01-24 00:05:18   2001        6276   1731976  ANSWERED\n",
       "18116    2019-02-12 20:51:06   2001        6250     15752  ANSWERED\n",
       "21393    2019-02-14 11:26:54   2001        2889     80912  ANSWERED\n",
       "81142    2019-04-05 08:39:32   2000        6688     76205  ANSWERED\n",
       "132982   2019-05-08 16:09:42   2000        6562   1529973  ANSWERED\n",
       "217305   2019-07-09 14:04:56   2000        6212    861584  ANSWERED\n",
       "237594   2019-07-26 09:43:09   2000        6688    560156  ANSWERED\n",
       "347753   2019-10-31 11:54:16   2000        6688     79531  ANSWERED\n",
       "365653   2019-11-08 09:14:46   4284        4212     13851  ANSWERED\n",
       "541381   2019-12-30 09:59:22   2001        2889     29813  ANSWERED\n",
       "542512   2019-12-30 15:51:43   2001        5020     73053  ANSWERED\n",
       "650635   2020-03-02 08:25:51   2001        6362    183565  ANSWERED\n",
       "688718   2020-06-16 12:04:52   6201        6202   1120344  ANSWERED\n",
       "722494   2020-08-11 10:29:15   2001        6363    192597  ANSWERED\n",
       "1271150  2021-05-17 11:07:41   2889        2000     14559  ANSWERED\n",
       "1311165  2021-07-08 13:58:23   2001        6688     90477  ANSWERED\n",
       "1527558  2021-12-02 14:05:35   2801        2803     77036  ANSWERED\n",
       "1567541  2021-12-29 13:36:33   2801        2803    163668  ANSWERED\n",
       "1568369  2021-12-31 11:14:50   5049   215658176     28833  ANSWERED\n",
       "1578454  2022-01-04 10:37:41   2001        6216    184015  ANSWERED"
      ]
     },
     "execution_count": 36,
     "metadata": {},
     "output_type": "execute_result"
    }
   ],
   "source": [
    "call_df[call_df.duration > 10800]"
   ]
  },
  {
   "cell_type": "markdown",
   "id": "68121f11-d68e-408d-8c76-640ac9aedb7e",
   "metadata": {},
   "source": [
    "#### List categorical values"
   ]
  },
  {
   "cell_type": "code",
   "execution_count": 37,
   "id": "1e226ec6-08d2-4fd7-ad71-00c5af760ac5",
   "metadata": {},
   "outputs": [
    {
     "data": {
      "text/plain": [
       "array(['FAILED', 'ANSWERED', 'BUSY', 'NO ANSWER'], dtype=object)"
      ]
     },
     "execution_count": 37,
     "metadata": {},
     "output_type": "execute_result"
    }
   ],
   "source": [
    "call_df.status.unique()"
   ]
  },
  {
   "cell_type": "code",
   "execution_count": 38,
   "id": "82234a69-ce9d-40a5-9fc9-db4c0b8665cb",
   "metadata": {},
   "outputs": [
    {
     "data": {
      "text/plain": [
       "FAILED       653922\n",
       "NO ANSWER    597692\n",
       "ANSWERED     431871\n",
       "BUSY          69263\n",
       "Name: status, dtype: int64"
      ]
     },
     "execution_count": 38,
     "metadata": {},
     "output_type": "execute_result"
    }
   ],
   "source": [
    "call_df.status.value_counts()"
   ]
  },
  {
   "cell_type": "markdown",
   "id": "4a8c7940-45f7-4612-8ea9-a41705e3e32e",
   "metadata": {},
   "source": [
    "### Manage exceptional (outlier) values"
   ]
  },
  {
   "cell_type": "code",
   "execution_count": 40,
   "id": "6f0c39c1-8a67-4ad0-af35-ff29483ecfac",
   "metadata": {},
   "outputs": [
    {
     "data": {
      "text/plain": [
       "<AxesSubplot:title={'center':'duration'}, xlabel='status'>"
      ]
     },
     "execution_count": 40,
     "metadata": {},
     "output_type": "execute_result"
    },
    {
     "data": {
      "image/png": "[encoded data removed]",
      "text/plain": [
       "<Figure size 640x480 with 1 Axes>"
      ]
     },
     "metadata": {},
     "output_type": "display_data"
    }
   ],
   "source": [
    "call_df.boxplot(by='status', column=['duration'], grid=True)"
   ]
  },
  {
   "cell_type": "code",
   "execution_count": 47,
   "id": "f626cec9-ee4b-4ae4-afe2-9ef8a6b4f714",
   "metadata": {},
   "outputs": [
    {
     "name": "stdout",
     "output_type": "stream",
     "text": [
      "lower value: 0.0\n",
      "higher value: 193.0\n"
     ]
    }
   ],
   "source": [
    "q_low= call_df[\"duration\"].quantile(0.01)\n",
    "q_hi= call_df[\"duration\"].quantile(0.99)\n",
    "print(\"lower value: \" +str(q_low))\n",
    "print(\"higher value: \" +str(q_hi))\n",
    "df_1= call_df[(call_df[\"status\"].str.contains('ANSWERED')==True) \\\n",
    "              & (call_df[\"duration\"] < q_hi) & (call_df[\"duration\"] > q_low)]\n",
    "df_2= call_df[(call_df[\"status\"].str.contains('ANSWERED')==False)]\n",
    "call_df=df_1.merge(df_2, how='outer')"
   ]
  },
  {
   "cell_type": "code",
   "execution_count": 46,
   "id": "b56f6253-537c-45fe-9ab2-d7ad745aeb4c",
   "metadata": {},
   "outputs": [
    {
     "data": {
      "text/html": [
       "<div>\n",
       "<style scoped>\n",
       "    .dataframe tbody tr th:only-of-type {\n",
       "        vertical-align: middle;\n",
       "    }\n",
       "\n",
       "    .dataframe tbody tr th {\n",
       "        vertical-align: top;\n",
       "    }\n",
       "\n",
       "    .dataframe thead th {\n",
       "        text-align: right;\n",
       "    }\n",
       "</style>\n",
       "<table border=\"1\" class=\"dataframe\">\n",
       "  <thead>\n",
       "    <tr style=\"text-align: right;\">\n",
       "      <th></th>\n",
       "      <th>date_time</th>\n",
       "      <th>source</th>\n",
       "      <th>destination</th>\n",
       "      <th>duration</th>\n",
       "      <th>status</th>\n",
       "    </tr>\n",
       "  </thead>\n",
       "  <tbody>\n",
       "    <tr>\n",
       "      <th>0</th>\n",
       "      <td>2019-01-28 19:54:13</td>\n",
       "      <td>812570342</td>\n",
       "      <td>6205</td>\n",
       "      <td>35</td>\n",
       "      <td>ANSWERED</td>\n",
       "    </tr>\n",
       "    <tr>\n",
       "      <th>1</th>\n",
       "      <td>2019-01-28 19:52:58</td>\n",
       "      <td>2436</td>\n",
       "      <td>6688</td>\n",
       "      <td>120</td>\n",
       "      <td>ANSWERED</td>\n",
       "    </tr>\n",
       "    <tr>\n",
       "      <th>2</th>\n",
       "      <td>2019-01-28 19:54:40</td>\n",
       "      <td>7101</td>\n",
       "      <td>7204</td>\n",
       "      <td>22</td>\n",
       "      <td>ANSWERED</td>\n",
       "    </tr>\n",
       "    <tr>\n",
       "      <th>3</th>\n",
       "      <td>2019-01-28 19:55:07</td>\n",
       "      <td>6336</td>\n",
       "      <td>6246</td>\n",
       "      <td>109</td>\n",
       "      <td>ANSWERED</td>\n",
       "    </tr>\n",
       "    <tr>\n",
       "      <th>4</th>\n",
       "      <td>2019-01-28 19:55:53</td>\n",
       "      <td>5011</td>\n",
       "      <td>5023</td>\n",
       "      <td>88</td>\n",
       "      <td>ANSWERED</td>\n",
       "    </tr>\n",
       "    <tr>\n",
       "      <th>...</th>\n",
       "      <td>...</td>\n",
       "      <td>...</td>\n",
       "      <td>...</td>\n",
       "      <td>...</td>\n",
       "      <td>...</td>\n",
       "    </tr>\n",
       "    <tr>\n",
       "      <th>1734992</th>\n",
       "      <td>2022-06-22 16:26:01</td>\n",
       "      <td>2409</td>\n",
       "      <td>6211</td>\n",
       "      <td>90</td>\n",
       "      <td>NO ANSWER</td>\n",
       "    </tr>\n",
       "    <tr>\n",
       "      <th>1734993</th>\n",
       "      <td>2022-06-22 16:33:20</td>\n",
       "      <td>0706500760</td>\n",
       "      <td>6211</td>\n",
       "      <td>28</td>\n",
       "      <td>NO ANSWER</td>\n",
       "    </tr>\n",
       "    <tr>\n",
       "      <th>1734994</th>\n",
       "      <td>2022-06-22 16:40:00</td>\n",
       "      <td>0706500760</td>\n",
       "      <td>6211</td>\n",
       "      <td>28</td>\n",
       "      <td>NO ANSWER</td>\n",
       "    </tr>\n",
       "    <tr>\n",
       "      <th>1734995</th>\n",
       "      <td>2022-06-22 16:43:01</td>\n",
       "      <td>0706500760</td>\n",
       "      <td>6211</td>\n",
       "      <td>28</td>\n",
       "      <td>NO ANSWER</td>\n",
       "    </tr>\n",
       "    <tr>\n",
       "      <th>1734996</th>\n",
       "      <td>2022-06-22 16:52:20</td>\n",
       "      <td>2345</td>\n",
       "      <td>6235</td>\n",
       "      <td>30</td>\n",
       "      <td>NO ANSWER</td>\n",
       "    </tr>\n",
       "  </tbody>\n",
       "</table>\n",
       "<p>1734997 rows × 5 columns</p>\n",
       "</div>"
      ],
      "text/plain": [
       "                   date_time      source destination  duration     status\n",
       "0        2019-01-28 19:54:13   812570342        6205        35   ANSWERED\n",
       "1        2019-01-28 19:52:58        2436        6688       120   ANSWERED\n",
       "2        2019-01-28 19:54:40        7101        7204        22   ANSWERED\n",
       "3        2019-01-28 19:55:07        6336        6246       109   ANSWERED\n",
       "4        2019-01-28 19:55:53        5011        5023        88   ANSWERED\n",
       "...                      ...         ...         ...       ...        ...\n",
       "1734992  2022-06-22 16:26:01        2409        6211        90  NO ANSWER\n",
       "1734993  2022-06-22 16:33:20  0706500760        6211        28  NO ANSWER\n",
       "1734994  2022-06-22 16:40:00  0706500760        6211        28  NO ANSWER\n",
       "1734995  2022-06-22 16:43:01  0706500760        6211        28  NO ANSWER\n",
       "1734996  2022-06-22 16:52:20        2345        6235        30  NO ANSWER\n",
       "\n",
       "[1734997 rows x 5 columns]"
      ]
     },
     "execution_count": 46,
     "metadata": {},
     "output_type": "execute_result"
    }
   ],
   "source": [
    "call_df"
   ]
  },
  {
   "cell_type": "code",
   "execution_count": 48,
   "id": "2eb38a48-69f4-45c1-8017-e1b11ca47879",
   "metadata": {},
   "outputs": [
    {
     "data": {
      "text/plain": [
       "<AxesSubplot:title={'center':'duration'}, xlabel='status'>"
      ]
     },
     "execution_count": 48,
     "metadata": {},
     "output_type": "execute_result"
    },
    {
     "data": {
      "image/png": "[encoded data removed]",
      "text/plain": [
       "<Figure size 640x480 with 1 Axes>"
      ]
     },
     "metadata": {},
     "output_type": "display_data"
    }
   ],
   "source": [
    "call_df.boxplot(by='status', column=['duration'], grid=False)"
   ]
  },
  {
   "cell_type": "code",
   "execution_count": 49,
   "id": "b509904a-e36a-450e-9646-3480d5a67980",
   "metadata": {},
   "outputs": [
    {
     "data": {
      "text/plain": [
       "array([[<AxesSubplot:title={'center':'ANSWERED'}>,\n",
       "        <AxesSubplot:title={'center':'BUSY'}>],\n",
       "       [<AxesSubplot:title={'center':'FAILED'}>,\n",
       "        <AxesSubplot:title={'center':'NO ANSWER'}>]], dtype=object)"
      ]
     },
     "execution_count": 49,
     "metadata": {},
     "output_type": "execute_result"
    },
    {
     "data": {
      "image/png": "[encoded data removed]",
      "text/plain": [
       "<Figure size 640x480 with 4 Axes>"
      ]
     },
     "metadata": {},
     "output_type": "display_data"
    }
   ],
   "source": [
    "call_df.hist(column ='duration', by='status')"
   ]
  },
  {
   "cell_type": "code",
   "execution_count": 51,
   "id": "77fe6b34-b393-4601-85fe-e8e3fc413f3a",
   "metadata": {},
   "outputs": [
    {
     "data": {
      "text/html": [
       "<div>\n",
       "<style scoped>\n",
       "    .dataframe tbody tr th:only-of-type {\n",
       "        vertical-align: middle;\n",
       "    }\n",
       "\n",
       "    .dataframe tbody tr th {\n",
       "        vertical-align: top;\n",
       "    }\n",
       "\n",
       "    .dataframe thead th {\n",
       "        text-align: right;\n",
       "    }\n",
       "</style>\n",
       "<table border=\"1\" class=\"dataframe\">\n",
       "  <thead>\n",
       "    <tr style=\"text-align: right;\">\n",
       "      <th></th>\n",
       "      <th>date_time</th>\n",
       "      <th>source</th>\n",
       "      <th>destination</th>\n",
       "      <th>duration</th>\n",
       "      <th>status</th>\n",
       "    </tr>\n",
       "  </thead>\n",
       "  <tbody>\n",
       "    <tr>\n",
       "      <th>55551</th>\n",
       "      <td>2019-06-13 14:48:30</td>\n",
       "      <td>7101</td>\n",
       "      <td>7385</td>\n",
       "      <td>190</td>\n",
       "      <td>ANSWERED</td>\n",
       "    </tr>\n",
       "    <tr>\n",
       "      <th>224870</th>\n",
       "      <td>2021-01-13 11:30:04</td>\n",
       "      <td>7101</td>\n",
       "      <td>2409</td>\n",
       "      <td>190</td>\n",
       "      <td>ANSWERED</td>\n",
       "    </tr>\n",
       "    <tr>\n",
       "      <th>247237</th>\n",
       "      <td>2021-03-08 11:10:47</td>\n",
       "      <td>7101</td>\n",
       "      <td>7150</td>\n",
       "      <td>190</td>\n",
       "      <td>ANSWERED</td>\n",
       "    </tr>\n",
       "    <tr>\n",
       "      <th>177724</th>\n",
       "      <td>2020-09-04 11:59:45</td>\n",
       "      <td>7101</td>\n",
       "      <td>7501</td>\n",
       "      <td>191</td>\n",
       "      <td>ANSWERED</td>\n",
       "    </tr>\n",
       "    <tr>\n",
       "      <th>173615</th>\n",
       "      <td>2020-08-25 08:48:45</td>\n",
       "      <td>7101</td>\n",
       "      <td>7511</td>\n",
       "      <td>191</td>\n",
       "      <td>ANSWERED</td>\n",
       "    </tr>\n",
       "    <tr>\n",
       "      <th>368654</th>\n",
       "      <td>2022-04-07 15:06:00</td>\n",
       "      <td>7101</td>\n",
       "      <td>7150</td>\n",
       "      <td>191</td>\n",
       "      <td>ANSWERED</td>\n",
       "    </tr>\n",
       "    <tr>\n",
       "      <th>240935</th>\n",
       "      <td>2021-02-18 14:42:59</td>\n",
       "      <td>7101</td>\n",
       "      <td>7150</td>\n",
       "      <td>192</td>\n",
       "      <td>ANSWERED</td>\n",
       "    </tr>\n",
       "    <tr>\n",
       "      <th>129772</th>\n",
       "      <td>2020-01-17 09:14:20</td>\n",
       "      <td>7101</td>\n",
       "      <td>7204</td>\n",
       "      <td>192</td>\n",
       "      <td>ANSWERED</td>\n",
       "    </tr>\n",
       "    <tr>\n",
       "      <th>248263</th>\n",
       "      <td>2021-03-09 15:11:58</td>\n",
       "      <td>7101</td>\n",
       "      <td>7343</td>\n",
       "      <td>192</td>\n",
       "      <td>ANSWERED</td>\n",
       "    </tr>\n",
       "    <tr>\n",
       "      <th>329125</th>\n",
       "      <td>2022-01-07 09:12:23</td>\n",
       "      <td>7101</td>\n",
       "      <td>7150</td>\n",
       "      <td>192</td>\n",
       "      <td>ANSWERED</td>\n",
       "    </tr>\n",
       "  </tbody>\n",
       "</table>\n",
       "</div>"
      ],
      "text/plain": [
       "                  date_time source destination  duration    status\n",
       "55551   2019-06-13 14:48:30   7101        7385       190  ANSWERED\n",
       "224870  2021-01-13 11:30:04   7101        2409       190  ANSWERED\n",
       "247237  2021-03-08 11:10:47   7101        7150       190  ANSWERED\n",
       "177724  2020-09-04 11:59:45   7101        7501       191  ANSWERED\n",
       "173615  2020-08-25 08:48:45   7101        7511       191  ANSWERED\n",
       "368654  2022-04-07 15:06:00   7101        7150       191  ANSWERED\n",
       "240935  2021-02-18 14:42:59   7101        7150       192  ANSWERED\n",
       "129772  2020-01-17 09:14:20   7101        7204       192  ANSWERED\n",
       "248263  2021-03-09 15:11:58   7101        7343       192  ANSWERED\n",
       "329125  2022-01-07 09:12:23   7101        7150       192  ANSWERED"
      ]
     },
     "execution_count": 51,
     "metadata": {},
     "output_type": "execute_result"
    }
   ],
   "source": [
    "call_df[call_df.source=='7101'].sort_values('duration').tail(10)"
   ]
  },
  {
   "cell_type": "code",
   "execution_count": 52,
   "id": "32cc91d1-07a5-4303-beaa-f0898d23bcd0",
   "metadata": {},
   "outputs": [
    {
     "data": {
      "text/html": [
       "<div>\n",
       "<style scoped>\n",
       "    .dataframe tbody tr th:only-of-type {\n",
       "        vertical-align: middle;\n",
       "    }\n",
       "\n",
       "    .dataframe tbody tr th {\n",
       "        vertical-align: top;\n",
       "    }\n",
       "\n",
       "    .dataframe thead th {\n",
       "        text-align: right;\n",
       "    }\n",
       "</style>\n",
       "<table border=\"1\" class=\"dataframe\">\n",
       "  <thead>\n",
       "    <tr style=\"text-align: right;\">\n",
       "      <th></th>\n",
       "      <th>date_time</th>\n",
       "      <th>source</th>\n",
       "      <th>destination</th>\n",
       "      <th>duration</th>\n",
       "      <th>status</th>\n",
       "    </tr>\n",
       "  </thead>\n",
       "  <tbody>\n",
       "    <tr>\n",
       "      <th>39675</th>\n",
       "      <td>2019-05-10 09:16:10</td>\n",
       "      <td>3911</td>\n",
       "      <td>2413</td>\n",
       "      <td>192</td>\n",
       "      <td>ANSWERED</td>\n",
       "    </tr>\n",
       "    <tr>\n",
       "      <th>48550</th>\n",
       "      <td>2019-05-30 14:03:30</td>\n",
       "      <td>718162530</td>\n",
       "      <td>6240</td>\n",
       "      <td>192</td>\n",
       "      <td>ANSWERED</td>\n",
       "    </tr>\n",
       "    <tr>\n",
       "      <th>122316</th>\n",
       "      <td>2019-12-31 10:38:56</td>\n",
       "      <td>4097</td>\n",
       "      <td>4026</td>\n",
       "      <td>192</td>\n",
       "      <td>ANSWERED</td>\n",
       "    </tr>\n",
       "    <tr>\n",
       "      <th>370685</th>\n",
       "      <td>2022-04-19 15:37:50</td>\n",
       "      <td>2360</td>\n",
       "      <td>7150</td>\n",
       "      <td>192</td>\n",
       "      <td>ANSWERED</td>\n",
       "    </tr>\n",
       "    <tr>\n",
       "      <th>136030</th>\n",
       "      <td>2020-01-31 09:16:38</td>\n",
       "      <td>2805</td>\n",
       "      <td>3991</td>\n",
       "      <td>192</td>\n",
       "      <td>ANSWERED</td>\n",
       "    </tr>\n",
       "    <tr>\n",
       "      <th>...</th>\n",
       "      <td>...</td>\n",
       "      <td>...</td>\n",
       "      <td>...</td>\n",
       "      <td>...</td>\n",
       "      <td>...</td>\n",
       "    </tr>\n",
       "    <tr>\n",
       "      <th>1300786</th>\n",
       "      <td>2021-05-03 21:39:07</td>\n",
       "      <td>5414</td>\n",
       "      <td>6121</td>\n",
       "      <td>0</td>\n",
       "      <td>NO ANSWER</td>\n",
       "    </tr>\n",
       "    <tr>\n",
       "      <th>1300785</th>\n",
       "      <td>2021-05-03 21:39:06</td>\n",
       "      <td>5414</td>\n",
       "      <td>6121</td>\n",
       "      <td>0</td>\n",
       "      <td>NO ANSWER</td>\n",
       "    </tr>\n",
       "    <tr>\n",
       "      <th>1300784</th>\n",
       "      <td>2021-05-03 21:39:06</td>\n",
       "      <td>5414</td>\n",
       "      <td>6121</td>\n",
       "      <td>0</td>\n",
       "      <td>NO ANSWER</td>\n",
       "    </tr>\n",
       "    <tr>\n",
       "      <th>1300783</th>\n",
       "      <td>2021-05-03 21:39:06</td>\n",
       "      <td>5414</td>\n",
       "      <td>6121</td>\n",
       "      <td>0</td>\n",
       "      <td>NO ANSWER</td>\n",
       "    </tr>\n",
       "    <tr>\n",
       "      <th>788113</th>\n",
       "      <td>2020-01-06 17:32:00</td>\n",
       "      <td>anonymous</td>\n",
       "      <td>6131</td>\n",
       "      <td>0</td>\n",
       "      <td>NO ANSWER</td>\n",
       "    </tr>\n",
       "  </tbody>\n",
       "</table>\n",
       "<p>1717450 rows × 5 columns</p>\n",
       "</div>"
      ],
      "text/plain": [
       "                   date_time     source destination  duration     status\n",
       "39675    2019-05-10 09:16:10       3911        2413       192   ANSWERED\n",
       "48550    2019-05-30 14:03:30  718162530        6240       192   ANSWERED\n",
       "122316   2019-12-31 10:38:56       4097        4026       192   ANSWERED\n",
       "370685   2022-04-19 15:37:50       2360        7150       192   ANSWERED\n",
       "136030   2020-01-31 09:16:38       2805        3991       192   ANSWERED\n",
       "...                      ...        ...         ...       ...        ...\n",
       "1300786  2021-05-03 21:39:07       5414        6121         0  NO ANSWER\n",
       "1300785  2021-05-03 21:39:06       5414        6121         0  NO ANSWER\n",
       "1300784  2021-05-03 21:39:06       5414        6121         0  NO ANSWER\n",
       "1300783  2021-05-03 21:39:06       5414        6121         0  NO ANSWER\n",
       "788113   2020-01-06 17:32:00  anonymous        6131         0  NO ANSWER\n",
       "\n",
       "[1717450 rows x 5 columns]"
      ]
     },
     "execution_count": 52,
     "metadata": {},
     "output_type": "execute_result"
    }
   ],
   "source": [
    "call_df.sort_values(by=['duration'], ascending=False)"
   ]
  },
  {
   "cell_type": "code",
   "execution_count": 53,
   "id": "0810b535-bfc6-44d7-8cd9-9c87e30a7a2d",
   "metadata": {},
   "outputs": [
    {
     "data": {
      "text/plain": [
       "count    1.717450e+06\n",
       "mean     1.777694e+01\n",
       "std      3.092308e+01\n",
       "min      0.000000e+00\n",
       "25%      0.000000e+00\n",
       "50%      3.000000e+00\n",
       "75%      2.400000e+01\n",
       "max      1.920000e+02\n",
       "Name: duration, dtype: float64"
      ]
     },
     "execution_count": 53,
     "metadata": {},
     "output_type": "execute_result"
    }
   ],
   "source": [
    "call_df.duration.describe()"
   ]
  },
  {
   "cell_type": "code",
   "execution_count": 54,
   "id": "147b6d3a-dcae-4473-891e-fdb49e5d133f",
   "metadata": {},
   "outputs": [
    {
     "data": {
      "text/html": [
       "<div>\n",
       "<style scoped>\n",
       "    .dataframe tbody tr th:only-of-type {\n",
       "        vertical-align: middle;\n",
       "    }\n",
       "\n",
       "    .dataframe tbody tr th {\n",
       "        vertical-align: top;\n",
       "    }\n",
       "\n",
       "    .dataframe thead th {\n",
       "        text-align: right;\n",
       "    }\n",
       "</style>\n",
       "<table border=\"1\" class=\"dataframe\">\n",
       "  <thead>\n",
       "    <tr style=\"text-align: right;\">\n",
       "      <th></th>\n",
       "      <th>date_time</th>\n",
       "      <th>source</th>\n",
       "      <th>destination</th>\n",
       "      <th>duration</th>\n",
       "    </tr>\n",
       "    <tr>\n",
       "      <th>status</th>\n",
       "      <th></th>\n",
       "      <th></th>\n",
       "      <th></th>\n",
       "      <th></th>\n",
       "    </tr>\n",
       "  </thead>\n",
       "  <tbody>\n",
       "    <tr>\n",
       "      <th>ANSWERED</th>\n",
       "      <td>396573</td>\n",
       "      <td>396573</td>\n",
       "      <td>396573</td>\n",
       "      <td>396573</td>\n",
       "    </tr>\n",
       "    <tr>\n",
       "      <th>BUSY</th>\n",
       "      <td>69263</td>\n",
       "      <td>69263</td>\n",
       "      <td>69263</td>\n",
       "      <td>69263</td>\n",
       "    </tr>\n",
       "    <tr>\n",
       "      <th>FAILED</th>\n",
       "      <td>653922</td>\n",
       "      <td>653922</td>\n",
       "      <td>653922</td>\n",
       "      <td>653922</td>\n",
       "    </tr>\n",
       "    <tr>\n",
       "      <th>NO ANSWER</th>\n",
       "      <td>597692</td>\n",
       "      <td>597692</td>\n",
       "      <td>597692</td>\n",
       "      <td>597692</td>\n",
       "    </tr>\n",
       "  </tbody>\n",
       "</table>\n",
       "</div>"
      ],
      "text/plain": [
       "           date_time  source  destination  duration\n",
       "status                                             \n",
       "ANSWERED      396573  396573       396573    396573\n",
       "BUSY           69263   69263        69263     69263\n",
       "FAILED        653922  653922       653922    653922\n",
       "NO ANSWER     597692  597692       597692    597692"
      ]
     },
     "execution_count": 54,
     "metadata": {},
     "output_type": "execute_result"
    }
   ],
   "source": [
    "call_df.groupby('status').count()"
   ]
  },
  {
   "cell_type": "markdown",
   "id": "03f3079a-c94b-4d61-ad05-24e1d7974cf5",
   "metadata": {},
   "source": [
    "### Verify duplicates"
   ]
  },
  {
   "cell_type": "code",
   "execution_count": 55,
   "id": "edad7cea-a569-4e79-b718-a73679e19ac6",
   "metadata": {},
   "outputs": [
    {
     "data": {
      "text/plain": [
       "0          False\n",
       "1          False\n",
       "2          False\n",
       "3          False\n",
       "4          False\n",
       "           ...  \n",
       "1717445    False\n",
       "1717446    False\n",
       "1717447    False\n",
       "1717448    False\n",
       "1717449    False\n",
       "Length: 1717450, dtype: bool"
      ]
     },
     "execution_count": 55,
     "metadata": {},
     "output_type": "execute_result"
    }
   ],
   "source": [
    "call_df.duplicated()"
   ]
  },
  {
   "cell_type": "code",
   "execution_count": 56,
   "id": "65d4b7c1-0703-410e-aba3-211c294737cf",
   "metadata": {},
   "outputs": [
    {
     "data": {
      "text/plain": [
       "921847"
      ]
     },
     "execution_count": 56,
     "metadata": {},
     "output_type": "execute_result"
    }
   ],
   "source": [
    "call_df.duplicated().sum()"
   ]
  },
  {
   "cell_type": "markdown",
   "id": "65b9b410-ea38-4e10-8bdf-c7fd068cef02",
   "metadata": {},
   "source": [
    "### Find column based duplicates"
   ]
  },
  {
   "cell_type": "code",
   "execution_count": 57,
   "id": "f68b0072-38a3-4e73-939f-1b862035f39c",
   "metadata": {},
   "outputs": [
    {
     "data": {
      "text/plain": [
       "978612"
      ]
     },
     "execution_count": 57,
     "metadata": {},
     "output_type": "execute_result"
    }
   ],
   "source": [
    "call_df['date_time'].duplicated().sum()"
   ]
  },
  {
   "cell_type": "markdown",
   "id": "7701f9a0-d88d-4f8d-a066-63611e69998b",
   "metadata": {},
   "source": [
    "### transform"
   ]
  },
  {
   "cell_type": "code",
   "execution_count": 58,
   "id": "71eac92c-e203-4cff-886b-d2f3a5ad37cb",
   "metadata": {},
   "outputs": [],
   "source": [
    "call_df['date_time']=pd.to_datetime(call_df['date_time'])"
   ]
  },
  {
   "cell_type": "code",
   "execution_count": 59,
   "id": "eba9cfd6-f966-4b54-9d6b-08877ecef24f",
   "metadata": {},
   "outputs": [
    {
     "name": "stdout",
     "output_type": "stream",
     "text": [
      "<class 'pandas.core.frame.DataFrame'>\n",
      "Int64Index: 1717450 entries, 0 to 1717449\n",
      "Data columns (total 5 columns):\n",
      " #   Column       Dtype         \n",
      "---  ------       -----         \n",
      " 0   date_time    datetime64[ns]\n",
      " 1   source       object        \n",
      " 2   destination  object        \n",
      " 3   duration     int64         \n",
      " 4   status       object        \n",
      "dtypes: datetime64[ns](1), int64(1), object(3)\n",
      "memory usage: 78.6+ MB\n"
     ]
    }
   ],
   "source": [
    "call_df.info()"
   ]
  },
  {
   "cell_type": "code",
   "execution_count": 60,
   "id": "fc943608-1930-41cc-a621-bfc26eee6432",
   "metadata": {},
   "outputs": [
    {
     "data": {
      "text/plain": [
       "978612"
      ]
     },
     "execution_count": 60,
     "metadata": {},
     "output_type": "execute_result"
    }
   ],
   "source": [
    "call_df['date_time'].duplicated().sum()"
   ]
  },
  {
   "cell_type": "code",
   "execution_count": 61,
   "id": "493f56e6-c5ca-48c4-978f-60bf7744df90",
   "metadata": {},
   "outputs": [
    {
     "data": {
      "text/plain": [
       "964662"
      ]
     },
     "execution_count": 61,
     "metadata": {},
     "output_type": "execute_result"
    }
   ],
   "source": [
    "call_df.duplicated(subset=['date_time','source','destination']).sum()"
   ]
  },
  {
   "cell_type": "code",
   "execution_count": 63,
   "id": "76828d57-f34d-4f10-a1db-803b0be6227c",
   "metadata": {},
   "outputs": [
    {
     "ename": "TypeError",
     "evalue": "'DataFrame' object is not callable",
     "output_type": "error",
     "traceback": [
      "\u001b[0;31m---------------------------------------------------------------------------\u001b[0m",
      "\u001b[0;31mTypeError\u001b[0m                                 Traceback (most recent call last)",
      "Input \u001b[0;32mIn [63]\u001b[0m, in \u001b[0;36m<cell line: 1>\u001b[0;34m()\u001b[0m\n\u001b[0;32m----> 1\u001b[0m \u001b[43mcall_df\u001b[49m\u001b[43m(\u001b[49m\u001b[43mcall_df\u001b[49m\u001b[38;5;241;43m.\u001b[39;49m\u001b[43mduplicated\u001b[49m\u001b[43m(\u001b[49m\u001b[43msubset\u001b[49m\u001b[38;5;241;43m=\u001b[39;49m\u001b[43m[\u001b[49m\u001b[38;5;124;43m'\u001b[39;49m\u001b[38;5;124;43mdate_time\u001b[39;49m\u001b[38;5;124;43m'\u001b[39;49m\u001b[43m,\u001b[49m\u001b[38;5;124;43m'\u001b[39;49m\u001b[38;5;124;43msource\u001b[39;49m\u001b[38;5;124;43m'\u001b[39;49m\u001b[43m,\u001b[49m\u001b[38;5;124;43m'\u001b[39;49m\u001b[38;5;124;43mdestination\u001b[39;49m\u001b[38;5;124;43m'\u001b[39;49m\u001b[43m]\u001b[49m\u001b[43m)\u001b[49m\u001b[43m)\u001b[49m\u001b[38;5;241m.\u001b[39mhead(\u001b[38;5;241m10\u001b[39m)\n",
      "\u001b[0;31mTypeError\u001b[0m: 'DataFrame' object is not callable"
     ]
    }
   ],
   "source": [
    "call_df(call_df.duplicated(subset=['date_time','source','destination'])).head(10)"
   ]
  },
  {
   "cell_type": "code",
   "execution_count": 64,
   "id": "78ebc042-12dc-4999-bc0b-72c085afa02b",
   "metadata": {},
   "outputs": [],
   "source": [
    "call_df.drop_duplicates(keep='first', inplace=True)"
   ]
  },
  {
   "cell_type": "code",
   "execution_count": 65,
   "id": "55b03901-f909-4dc3-b2b6-ce8431e06b15",
   "metadata": {},
   "outputs": [
    {
     "data": {
      "text/plain": [
       "(795603, 5)"
      ]
     },
     "execution_count": 65,
     "metadata": {},
     "output_type": "execute_result"
    }
   ],
   "source": [
    "call_df.shape"
   ]
  },
  {
   "cell_type": "code",
   "execution_count": 66,
   "id": "f041ab17-3738-4307-bf1d-dfe8c32154ed",
   "metadata": {},
   "outputs": [
    {
     "data": {
      "text/plain": [
       "<AxesSubplot:title={'center':'duration'}, xlabel='status'>"
      ]
     },
     "execution_count": 66,
     "metadata": {},
     "output_type": "execute_result"
    },
    {
     "data": {
      "image/png": "[encoded data removed]",
      "text/plain": [
       "<Figure size 640x480 with 1 Axes>"
      ]
     },
     "metadata": {},
     "output_type": "display_data"
    }
   ],
   "source": [
    "call_df.boxplot(by='status', column=['duration'], grid=False)"
   ]
  },
  {
   "cell_type": "code",
   "execution_count": 68,
   "id": "5340abcd-99e7-4204-b73d-150bab28df87",
   "metadata": {},
   "outputs": [
    {
     "data": {
      "text/plain": [
       "42815"
      ]
     },
     "execution_count": 68,
     "metadata": {},
     "output_type": "execute_result"
    }
   ],
   "source": [
    "call_df.duplicated(subset=['date_time','source','destination']).sum()"
   ]
  },
  {
   "cell_type": "code",
   "execution_count": 69,
   "id": "e7e12d9a-caf4-469c-b242-7881923d061f",
   "metadata": {},
   "outputs": [
    {
     "name": "stdout",
     "output_type": "stream",
     "text": [
      "<class 'pandas.core.frame.DataFrame'>\n",
      "Int64Index: 795603 entries, 0 to 1717449\n",
      "Data columns (total 5 columns):\n",
      " #   Column       Non-Null Count   Dtype         \n",
      "---  ------       --------------   -----         \n",
      " 0   date_time    795603 non-null  datetime64[ns]\n",
      " 1   source       795603 non-null  object        \n",
      " 2   destination  795603 non-null  object        \n",
      " 3   duration     795603 non-null  int64         \n",
      " 4   status       795603 non-null  object        \n",
      "dtypes: datetime64[ns](1), int64(1), object(3)\n",
      "memory usage: 36.4+ MB\n"
     ]
    }
   ],
   "source": [
    "call_df.info()"
   ]
  },
  {
   "cell_type": "code",
   "execution_count": 70,
   "id": "70ae4d34-ae31-459e-87fa-5d71ff37f91e",
   "metadata": {},
   "outputs": [
    {
     "name": "stderr",
     "output_type": "stream",
     "text": [
      "/tmp/ipykernel_47/3593937382.py:1: FutureWarning: Dropping of nuisance columns in DataFrame reductions (with 'numeric_only=None') is deprecated; in a future version this will raise TypeError.  Select only valid columns before calling the reduction.\n",
      "  call_df[call_df['date_time'].duplicated()].sum()\n"
     ]
    },
    {
     "data": {
      "text/plain": [
       "source         6510444463867101620534712473812234016504862357...\n",
       "destination    6210656564907204626239117127654052306470720224...\n",
       "duration                                                  632902\n",
       "status         ANSWEREDANSWEREDANSWEREDANSWEREDANSWEREDANSWER...\n",
       "dtype: object"
      ]
     },
     "execution_count": 70,
     "metadata": {},
     "output_type": "execute_result"
    }
   ],
   "source": [
    "call_df[call_df['date_time'].duplicated()].sum()"
   ]
  },
  {
   "cell_type": "markdown",
   "id": "7c70222c-f7e2-449f-97d8-528f14e87a69",
   "metadata": {},
   "source": [
    "### Groupby"
   ]
  },
  {
   "cell_type": "code",
   "execution_count": 71,
   "id": "49498142-fe31-4966-b0fa-7e8231a8cc85",
   "metadata": {},
   "outputs": [
    {
     "data": {
      "text/plain": [
       "source       destination\n",
       "0            4226            1\n",
       "             4228            3\n",
       "             4255            1\n",
       "             4284           12\n",
       "             6471            1\n",
       "                            ..\n",
       "anonymous    6980            8\n",
       "             6985            8\n",
       "             6998            8\n",
       "             6999            9\n",
       "prasannaliy  4614            2\n",
       "Length: 90769, dtype: int64"
      ]
     },
     "execution_count": 71,
     "metadata": {},
     "output_type": "execute_result"
    }
   ],
   "source": [
    "call_df.groupby(['source','destination']).size()"
   ]
  },
  {
   "cell_type": "code",
   "execution_count": 72,
   "id": "4e100041-ec5c-4e4a-a577-46369d304987",
   "metadata": {},
   "outputs": [],
   "source": [
    "monthly_data=call_df.groupby(call_df['date_time'].dt.month)['duration'].sum()"
   ]
  },
  {
   "cell_type": "code",
   "execution_count": 73,
   "id": "481c6c5c-d316-4853-ad67-5550fa89a040",
   "metadata": {},
   "outputs": [
    {
     "data": {
      "text/plain": [
       "date_time\n",
       "1     2968478\n",
       "2     3218557\n",
       "3     3304895\n",
       "4     2114378\n",
       "5     2308472\n",
       "6     2193349\n",
       "7     2084403\n",
       "8     2007256\n",
       "9     1514714\n",
       "10    2343203\n",
       "11    2363711\n",
       "12    2391435\n",
       "Name: duration, dtype: int64"
      ]
     },
     "execution_count": 73,
     "metadata": {},
     "output_type": "execute_result"
    }
   ],
   "source": [
    "monthly_data"
   ]
  },
  {
   "cell_type": "code",
   "execution_count": 74,
   "id": "faec3007-5536-4de8-9227-df3a2cd79732",
   "metadata": {},
   "outputs": [],
   "source": [
    "call_df['month']=call_df.date_time.dt.month"
   ]
  },
  {
   "cell_type": "code",
   "execution_count": 75,
   "id": "5f8e82dc-9b96-4036-aa51-374b26cdbd2a",
   "metadata": {},
   "outputs": [],
   "source": [
    "call_df['day_name']=call_df.date_time.dt.day_of_week"
   ]
  },
  {
   "cell_type": "code",
   "execution_count": null,
   "id": "921c9002-54f3-4f2c-ae6d-b8430da3065b",
   "metadata": {},
   "outputs": [],
   "source": [
    "call_df[(call_df['status']== BUSSY)].month.value_counts().sort-IND"
   ]
  }
 ],
 "metadata": {
  "kernelspec": {
   "display_name": "Python 3 (ipykernel)",
   "language": "python",
   "name": "python3"
  },
  "language_info": {
   "codemirror_mode": {
    "name": "ipython",
    "version": 3
   },
   "file_extension": ".py",
   "mimetype": "text/x-python",
   "name": "python",
   "nbconvert_exporter": "python",
   "pygments_lexer": "ipython3",
   "version": "3.8.13"
  }
 },
 "nbformat": 4,
 "nbformat_minor": 5
}
